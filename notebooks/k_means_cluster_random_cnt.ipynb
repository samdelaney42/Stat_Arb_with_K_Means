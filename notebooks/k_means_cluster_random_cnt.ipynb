{
 "cells": [
  {
   "cell_type": "code",
   "execution_count": 1,
   "metadata": {},
   "outputs": [],
   "source": [
    "# import packages\n",
    "from sklearn.datasets import make_blobs\n",
    "import matplotlib.pyplot as plt\n",
    "import numpy as np"
   ]
  },
  {
   "cell_type": "code",
   "execution_count": 2,
   "metadata": {},
   "outputs": [],
   "source": [
    "# define input arguments\n",
    "n_samples = 70\n",
    "n_features = 2\n",
    "n_clusters = 6\n",
    "random_state = 10"
   ]
  },
  {
   "cell_type": "code",
   "execution_count": 3,
   "metadata": {},
   "outputs": [
    {
     "data": {
      "text/plain": [
       "<matplotlib.collections.PathCollection at 0x7f8886167b50>"
      ]
     },
     "execution_count": 3,
     "metadata": {},
     "output_type": "execute_result"
    },
    {
     "data": {
      "image/png": "[encoded data removed]",
      "text/plain": [
       "<Figure size 432x288 with 1 Axes>"
      ]
     },
     "metadata": {
      "needs_background": "light"
     },
     "output_type": "display_data"
    }
   ],
   "source": [
    "# create initial blobs that we will base clusters around\n",
    "X, y = make_blobs(n_samples = n_samples, n_features = n_features, centers = n_clusters, random_state = random_state)\n",
    "\n",
    "\n",
    "# show blobs\n",
    "plt.scatter(X[:, 0], X[:, 1], c=y)"
   ]
  },
  {
   "cell_type": "code",
   "execution_count": 4,
   "metadata": {},
   "outputs": [],
   "source": [
    "def random_selection(X, n_clusters, random_state):\n",
    "    '''\n",
    "    parameters\n",
    "    ----------\n",
    "        X: numpy.ndarray: All points created by make blobs\n",
    "        n_clusters: int: number of clusters we want (= centers parameter in make_blobs())\n",
    "        random_state: int: desired seed for repeatable results\n",
    "    returns\n",
    "    ----------\n",
    "        initial_centroid_points: list: randomly chosen points representing our initial centroids \n",
    "    '''\n",
    "    # choose random numbers between 0 and size of X to use as index to pull random point coordinates\n",
    "    # choose as many random numbers as equal to number of clusters\n",
    "    rand_centroids = np.random.choice(len(X)-1, n_clusters, replace = False)\n",
    "    # set up output list\n",
    "    initial_centroid_points = []\n",
    "    # use random number as index to pull point coordinates \n",
    "    for i in rand_centroids:\n",
    "        [x, y] = X[i, 0], X[i, 1]\n",
    "        initial_centroid_points.append([x, y])\n",
    "    # return list of randomly selected coordinates\n",
    "    return np.array(initial_centroid_points)"
   ]
  },
  {
   "cell_type": "code",
   "execution_count": 14,
   "metadata": {},
   "outputs": [
    {
     "data": {
      "image/png": "[encoded data removed]",
      "text/plain": [
       "<Figure size 432x288 with 1 Axes>"
      ]
     },
     "metadata": {
      "needs_background": "light"
     },
     "output_type": "display_data"
    }
   ],
   "source": [
    "# get initial centroids \n",
    "initial_centroid_points = random_selection(X, n_clusters, random_state)\n",
    "\n",
    "# show all points with randomly selected initial centroids in red\n",
    "plt.scatter(X[:, 0], X[:, 1])\n",
    "for i in range(n_clusters):\n",
    "    plt.plot(initial_centroid_points[i][0], initial_centroid_points[i][1], 'r*')\n"
   ]
  },
  {
   "cell_type": "code",
   "execution_count": 6,
   "metadata": {},
   "outputs": [],
   "source": [
    "def cluster_points(X, n_clusters, initial_centroid_points):\n",
    "    '''\n",
    "    parameters\n",
    "    ----------\n",
    "        X: numpy.ndarray: of all points created by make blobs\n",
    "        n_clusters: int: number of clusters we want (= number of centers parameter in make_blobs())\n",
    "        initial_centroid_points: list: of randomly chosen initial centroids \n",
    "    returns\n",
    "    ----------\n",
    "        clusters: numpy.ndarray: of clusters. Points grouped by min distnace to closest centroid \n",
    "    '''\n",
    "    # get number of desired clusters\n",
    "    p = n_clusters\n",
    "    # set up output list\n",
    "    clusters = []\n",
    "    # nest empty lists in output list based on number of clusters desired\n",
    "    for n in range(p):\n",
    "        points = []\n",
    "        clusters.append(points)\n",
    "    # iterate over every point in data set pulling x and y coordinates\n",
    "    for x in X:\n",
    "        x1 = x[0]\n",
    "        y1 = x[1]\n",
    "        # list for distances between current point and each centroid\n",
    "        dists = []\n",
    "        # itterate over each initial centroid to find distances to current point\n",
    "        for c in initial_centroid_points:\n",
    "            x2 = c[0]\n",
    "            y2 = c[1]\n",
    "            # find distance between current point and centroid\n",
    "            d = distance_calc(x1, y1, x2, y2)\n",
    "            dists.append(d)\n",
    "        # find the index in distance list of minimum distance \n",
    "        # use this index to place current point in correct nested list in output list \n",
    "        index = dists.index(min(dists))\n",
    "        clusters[index].append(x)\n",
    "        \n",
    "    # return clusters\n",
    "    return np.array(clusters, dtype=object)\n"
   ]
  },
  {
   "cell_type": "code",
   "execution_count": 7,
   "metadata": {},
   "outputs": [],
   "source": [
    "# distance calculator method using euclidian method\n",
    "def distance_calc(x1, y1, ix, iy):\n",
    "    '''\n",
    "    parameters\n",
    "    ----------\n",
    "        x1, y1: numpy.float64: centroid coordinates\n",
    "        ix, yx: numpy.float64: point in blob coordinates\n",
    "    returns\n",
    "    ----------\n",
    "        distance: numpy.float64: Euclidian distance between centroid and point in blob\n",
    "    '''\n",
    "    d = np.sqrt(np.square(x1 - ix) + np.square(y1 - iy))\n",
    "    return d"
   ]
  },
  {
   "cell_type": "code",
   "execution_count": 8,
   "metadata": {},
   "outputs": [
    {
     "data": {
      "image/png": "[encoded data removed]",
      "text/plain": [
       "<Figure size 432x288 with 1 Axes>"
      ]
     },
     "metadata": {
      "needs_background": "light"
     },
     "output_type": "display_data"
    }
   ],
   "source": [
    "# find clusters based on all points (X) and initial random selected centroids (points)\n",
    "#c1, c2 = cluster(X, initial_centroid_points)\n",
    "\n",
    "first_cluster = cluster_points(X, n_clusters, initial_centroid_points)\n",
    "\n",
    "ind = 0\n",
    "for i in first_cluster:\n",
    "    plt.scatter(np.stack(i, axis=0)[:, 0], np.stack(i, axis=0)[:, 1])\n",
    "    plt.plot(initial_centroid_points[ind][0], initial_centroid_points[ind][1], 'r*')\n",
    "    ind += 1"
   ]
  },
  {
   "cell_type": "code",
   "execution_count": 9,
   "metadata": {},
   "outputs": [],
   "source": [
    "# find true centroid \n",
    "def true_centroid(cluster):\n",
    "    '''\n",
    "    parameters\n",
    "    ----------\n",
    "        cluster: list: collection of points in cluster\n",
    "    returns\n",
    "    ----------\n",
    "        mean distance: list: mean x and y position of points in cluster\n",
    "    '''\n",
    "    # take x and y coordinates of each point in cluseter\n",
    "    x = []\n",
    "    y = []\n",
    "    for i in cluster:\n",
    "        x.append(i[0])\n",
    "        y.append(i[1])\n",
    "    # find mean position of these points\n",
    "    x_mean = np.mean(x[:])\n",
    "    y_mean = np.mean(y[:])\n",
    "    # return as point that we will use as new centroid\n",
    "    return [x_mean, y_mean]\n",
    "  "
   ]
  },
  {
   "cell_type": "code",
   "execution_count": 10,
   "metadata": {},
   "outputs": [],
   "source": [
    "# get first round optimized centroid points\n",
    "new_centroid_points = []\n",
    "for i in first_cluster:\n",
    "    points = true_centroid(i)\n",
    "    new_centroid_points.append(points)"
   ]
  },
  {
   "cell_type": "code",
   "execution_count": 11,
   "metadata": {},
   "outputs": [
    {
     "data": {
      "image/png": "[encoded data removed]",
      "text/plain": [
       "<Figure size 432x288 with 1 Axes>"
      ]
     },
     "metadata": {
      "needs_background": "light"
     },
     "output_type": "display_data"
    }
   ],
   "source": [
    "# show first cluster set with first optimized centroids\n",
    "ind = 0\n",
    "for i in first_cluster:\n",
    "    plt.scatter(np.stack(i, axis=0)[:, 0], np.stack(i, axis=0)[:, 1])\n",
    "    plt.plot(initial_centroid_points[ind][0], initial_centroid_points[ind][1], 'r*')\n",
    "    plt.plot(new_centroid_points[ind][0], new_centroid_points[ind][1], 'g*')\n",
    "    ind += 1"
   ]
  },
  {
   "cell_type": "code",
   "execution_count": 12,
   "metadata": {},
   "outputs": [
    {
     "name": "stdout",
     "output_type": "stream",
     "text": [
      "1\n"
     ]
    }
   ],
   "source": [
    "# now we have our first clusters and first round optimized centroids\n",
    "# we will loop over the same process to adjust the position of the centroids\n",
    "# and the members of each cluster untill we find no change in memberd and positions\n",
    "count = 0\n",
    "for x in range(5000):\n",
    "    itter_centroid_points = []\n",
    "    # find new clusters with newly found centroid\n",
    "    clusters = cluster_points(X, n_clusters, new_centroid_points)\n",
    "\n",
    "    # itterate through each set of clusters to find their respective new centroids\n",
    "    # find new centroid based on new clusters with true_centroid() method\n",
    "    for i in clusters:\n",
    "        points = true_centroid(i)\n",
    "        itter_centroid_points.append(points)\n",
    "    # detect if there is any change in centroids to find number of itterations\n",
    "    if itter_centroid_points != new_centroid_points:\n",
    "        count+=1\n",
    "    # reset centroids and find new clusters\n",
    "    new_centroid_points = itter_centroid_points\n",
    "\n",
    "# show number of itterations needed to optimize \n",
    "print(count)"
   ]
  },
  {
   "cell_type": "code",
   "execution_count": 13,
   "metadata": {},
   "outputs": [
    {
     "data": {
      "image/png": "[encoded data removed]",
      "text/plain": [
       "<Figure size 432x288 with 1 Axes>"
      ]
     },
     "metadata": {
      "needs_background": "light"
     },
     "output_type": "display_data"
    }
   ],
   "source": [
    "ind = 0\n",
    "for i in clusters:\n",
    "    plt.scatter(np.stack(i, axis=0)[:, 0], np.stack(i, axis=0)[:, 1])\n",
    "    plt.plot(new_centroid_points[ind][0], new_centroid_points[ind][1], 'r*')\n",
    "    ind += 1\n"
   ]
  },
  {
   "cell_type": "code",
   "execution_count": null,
   "metadata": {},
   "outputs": [],
   "source": []
  }
 ],
 "metadata": {
  "kernelspec": {
   "display_name": "Python 3",
   "language": "python",
   "name": "python3"
  },
  "language_info": {
   "codemirror_mode": {
    "name": "ipython",
    "version": 3
   },
   "file_extension": ".py",
   "mimetype": "text/x-python",
   "name": "python",
   "nbconvert_exporter": "python",
   "pygments_lexer": "ipython3",
   "version": "3.8.5"
  }
 },
 "nbformat": 4,
 "nbformat_minor": 4
}
